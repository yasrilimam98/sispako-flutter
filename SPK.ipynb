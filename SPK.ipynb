{
  "nbformat": 4,
  "nbformat_minor": 0,
  "metadata": {
    "kernelspec": {
      "display_name": "Python 3",
      "language": "python",
      "name": "python3"
    },
    "language_info": {
      "codemirror_mode": {
        "name": "ipython",
        "version": 3
      },
      "file_extension": ".py",
      "mimetype": "text/x-python",
      "name": "python",
      "nbconvert_exporter": "python",
      "pygments_lexer": "ipython3",
      "version": "3.7.3"
    },
    "colab": {
      "name": "SPK.ipynb",
      "provenance": [],
      "collapsed_sections": [],
      "include_colab_link": true
    }
  },
  "cells": [
    {
      "cell_type": "markdown",
      "metadata": {
        "id": "view-in-github",
        "colab_type": "text"
      },
      "source": [
        "<a href=\"https://colab.research.google.com/github/yasrilimam98/sispako-flutter/blob/main/SPK.ipynb\" target=\"_parent\"><img src=\"https://colab.research.google.com/assets/colab-badge.svg\" alt=\"Open In Colab\"/></a>"
      ]
    },
    {
      "cell_type": "code",
      "metadata": {
        "colab": {
          "base_uri": "https://localhost:8080/"
        },
        "id": "B0RkcHhu2t_t",
        "outputId": "51ed6301-752c-4930-b2e6-4dcff526b11f"
      },
      "source": [
        "# Import Library Numpy dan disimapan dalam nama 'np'\n",
        "import numpy as np\n",
        "\n",
        "# Membuat array 2d sesuai dengan matrix penyekalaan\n",
        "init_matrix = np.array([[5,2,3,5,4,4], [4,4,4,4,4,4], [1,4,4,4,4,4], [4,1,2,3,3,2]])\n",
        "# Cek hasil array 2d\n",
        "print(init_matrix)"
      ],
      "execution_count": null,
      "outputs": [
        {
          "output_type": "stream",
          "text": [
            "[[5 2 3 5 4 4]\n",
            " [4 4 4 4 4 4]\n",
            " [1 4 4 4 4 4]\n",
            " [4 1 2 3 3 2]]\n"
          ],
          "name": "stdout"
        }
      ]
    },
    {
      "cell_type": "code",
      "metadata": {
        "id": "sJgV68uc2t_x"
      },
      "source": [
        "import math\n",
        "\n",
        "def normalization(matrix):\n",
        "    row_values = []\n",
        "    norm_matrix = []\n",
        "    \n",
        "    for i in range(matrix.shape[0]): # Looping per baris (kriteria)\n",
        "        # Menghitung sum tiap x_{ij}^2\n",
        "        sum_row = sum([pow(x,2) for x in matrix[i]])\n",
        "        \n",
        "        for j in range(matrix[i].shape[0]): # Looping per kolom (alternatif)\n",
        "            # membangi nilai asli x_{ij} dengan hasil akar\n",
        "            r_value = matrix[i][j] / math.sqrt(sum_row)\n",
        "            \n",
        "            # Masukkan hasil normalisasi ke list tiap baris\n",
        "            row_values.append(r_value)\n",
        "        \n",
        "        #Masukkan hasil normalisasi per baris ke matrix normalisasi\n",
        "        norm_matrix.append(row_values)\n",
        "        \n",
        "        #Kosongkan list normalisasi perbaris\n",
        "        row_values = []\n",
        "            \n",
        "    # Rturn matrix normalisasi dalam bentuk numpy array\n",
        "    return np.asarray(norm_matrix)"
      ],
      "execution_count": null,
      "outputs": []
    },
    {
      "cell_type": "code",
      "metadata": {
        "colab": {
          "base_uri": "https://localhost:8080/"
        },
        "id": "Pq1_RKL72t_y",
        "outputId": "48d286d6-6276-4430-963f-8fb735f31c88"
      },
      "source": [
        "# Testing Fungsi Normalisasi\n",
        "norm = normalization(init_matrix)\n",
        "print(norm)"
      ],
      "execution_count": null,
      "outputs": [
        {
          "output_type": "stream",
          "text": [
            "[[0.51298918 0.20519567 0.30779351 0.51298918 0.41039134 0.41039134]\n",
            " [0.40824829 0.40824829 0.40824829 0.40824829 0.40824829 0.40824829]\n",
            " [0.11111111 0.44444444 0.44444444 0.44444444 0.44444444 0.44444444]\n",
            " [0.60999428 0.15249857 0.30499714 0.45749571 0.45749571 0.30499714]]\n"
          ],
          "name": "stdout"
        }
      ]
    },
    {
      "cell_type": "code",
      "metadata": {
        "id": "C28K7k6U2t_z"
      },
      "source": [
        "# Kalkulasi skor normalisasi terbobot\n",
        "\n",
        "# Bobot untuk Kriteria C1, C2, C3, dan C4\n",
        "c_weights = np.array([30,20,30,20])\n",
        "\n",
        "# Fungsi untuk kalkulasi matrix terbobot. Paramter yang diperlukan adalah nilai ternormalisasi dan bobot\n",
        "# Ingat! Kriteria adalah baris, Kolom adalah alternatif\n",
        "def weighted_normalization(n_matrix, c_weights):\n",
        "    # Buat salinan nilai ternormalisasi\n",
        "    norm_weighted = n_matrix\n",
        "    \n",
        "    for i in range(c_weights.shape[0]): # Looping tiap kriteria\n",
        "        # Kalkulasi normalisasi terbobot\n",
        "        norm_weighted[i] = [r * c_weights[i] for r in norm_weighted[i]]\n",
        "    \n",
        "    return np.asarray(norm_weighted)"
      ],
      "execution_count": null,
      "outputs": []
    },
    {
      "cell_type": "code",
      "metadata": {
        "scrolled": true,
        "colab": {
          "base_uri": "https://localhost:8080/"
        },
        "id": "0V4wgG4A2t_0",
        "outputId": "bed1eaca-e912-46cd-ce13-9f3c23b66679"
      },
      "source": [
        "# Testing Matrix Normalisasi terbobot\n",
        "w_norm = weighted_normalization(norm, c_weights)\n",
        "print(w_norm)"
      ],
      "execution_count": null,
      "outputs": [
        {
          "output_type": "stream",
          "text": [
            "[[15.38967528  6.15587011  9.23380517 15.38967528 12.31174023 12.31174023]\n",
            " [ 8.16496581  8.16496581  8.16496581  8.16496581  8.16496581  8.16496581]\n",
            " [ 3.33333333 13.33333333 13.33333333 13.33333333 13.33333333 13.33333333]\n",
            " [12.19988563  3.04997141  6.09994281  9.14991422  9.14991422  6.09994281]]\n"
          ],
          "name": "stdout"
        }
      ]
    },
    {
      "cell_type": "code",
      "metadata": {
        "id": "G39yh_Oo2t_1"
      },
      "source": [
        "# Membuat label benefit dan cost untuk tiap kriteria\n",
        "# Benefit = 1\n",
        "# Cost = 0\n",
        "c_label = np.array([1, 1, 1, 1])"
      ],
      "execution_count": null,
      "outputs": []
    },
    {
      "cell_type": "code",
      "metadata": {
        "id": "XQK2rlCI2t_2"
      },
      "source": [
        "# Fungsi mencari solusi ideal positif dan negatif\n",
        "# Parameter yang dibutuhkan adalah, matrix normalisasi terbobot dan label benefit cost untuk tiap kriteria\n",
        "\n",
        "def ideal(w_norm, c_label):\n",
        "    a_positif = []\n",
        "    a_negatif = []\n",
        "    \n",
        "    for i in range(w_norm.shape[0]):\n",
        "        if c_label[i] == 1:\n",
        "            # Untuk ideal positif\n",
        "            a_max = max(w_norm[i])\n",
        "            a_positif.append(a_max)\n",
        "            \n",
        "            # Untuk ideal negatif\n",
        "            a_min = min(w_norm[i])\n",
        "            a_negatif.append(a_min)\n",
        "        elif c_label[i] == 0:\n",
        "            # Untuk ideal positif\n",
        "            a_max = min(w_norm[i])\n",
        "            a_positif.append(a_max)\n",
        "            \n",
        "            # Untuk ideal negatif\n",
        "            a_min = max(w_norm[i])\n",
        "            a_negatif.append(a_min)\n",
        "    \n",
        "    ideal_value = np.array([a_positif, a_negatif])\n",
        "    \n",
        "    # Return dalam bentuk transpose sehingga baris = kriteria, kolom = solusi ideal positif dan negatid\n",
        "    return ideal_value.transpose()"
      ],
      "execution_count": null,
      "outputs": []
    },
    {
      "cell_type": "code",
      "metadata": {
        "colab": {
          "base_uri": "https://localhost:8080/"
        },
        "id": "M35GO_852t_2",
        "outputId": "16d4aea4-ca11-4306-cf16-07b5d54c5bec"
      },
      "source": [
        "# Testing Solusi Ideal\n",
        "ideal_v = ideal(w_norm, c_label)\n",
        "print(ideal_v)"
      ],
      "execution_count": null,
      "outputs": [
        {
          "output_type": "stream",
          "text": [
            "[[15.38967528  6.15587011]\n",
            " [ 8.16496581  8.16496581]\n",
            " [13.33333333  3.33333333]\n",
            " [12.19988563  3.04997141]]\n"
          ],
          "name": "stdout"
        }
      ]
    },
    {
      "cell_type": "code",
      "metadata": {
        "id": "3z-oD9EN2t_4"
      },
      "source": [
        "# Kalkulasi Jarak Ideal Positif dan Negatif\n",
        "# Disini akan menggunakan bantuan fungsi `distance` dari library `scipy.spatial`\n",
        "# Parameter :\n",
        "# 1. Matrix normalisasi terbobot\n",
        "# 2. Nilai solusi ideal positif dan negatif\n",
        "\n",
        "from scipy.spatial import distance as d\n",
        "\n",
        "def alt_ideal_distance(w_norm, ideal_v):\n",
        "    d_positif = []\n",
        "    d_negatif = []\n",
        "    \n",
        "    # Kalkulasi Jarak\n",
        "    for i in range(w_norm[0].shape[0]):\n",
        "        # positif\n",
        "        dp = d.euclidean(w_norm[:,i], ideal_v[:,0])\n",
        "        d_positif.append(dp)\n",
        "        \n",
        "        # negatif\n",
        "        dn = d.euclidean(ideal_v[:,1], w_norm[:,i])\n",
        "        d_negatif.append(dn)\n",
        "    \n",
        "    d_positif = np.asarray(d_positif)\n",
        "    d_negatif = np.asarray(d_negatif)\n",
        "    \n",
        "    d_value = np.array([d_positif, d_negatif])\n",
        "        \n",
        "    return d_value.transpose()"
      ],
      "execution_count": null,
      "outputs": []
    },
    {
      "cell_type": "code",
      "metadata": {
        "colab": {
          "base_uri": "https://localhost:8080/"
        },
        "id": "CWFtRQm02t_5",
        "outputId": "c3cb5aa4-3082-4bb8-d26a-95e1454aeb2d"
      },
      "source": [
        "# Testing Jarak Ideal Positif\n",
        "distance = alt_ideal_distance(w_norm, ideal_v)\n",
        "print(distance)"
      ],
      "execution_count": null,
      "outputs": [
        {
          "output_type": "stream",
          "text": [
            "[[10.         12.99938799]\n",
            " [12.99938799 10.        ]\n",
            " [ 8.66625866 10.8984407 ]\n",
            " [ 3.04997141 14.91551073]\n",
            " [ 4.33312933 13.23268828]\n",
            " [ 6.8324949  12.13247965]]\n"
          ],
          "name": "stdout"
        }
      ]
    },
    {
      "cell_type": "code",
      "metadata": {
        "id": "kexRdPFl2t_6"
      },
      "source": [
        "# Kalkulsi skor akhir\n",
        "# Parameter :\n",
        "# 1. distance : matrix jarak solusi positif dan negatif. \n",
        "# Baris adalah kriteria, kolom adalah solusi ideal positif dan negatif\n",
        "\n",
        "def final_rank(distance):\n",
        "    v = []\n",
        "    \n",
        "    for i in range(distance.shape[0]):\n",
        "        vi = distance[i][1] / (distance[i][1] + distance[i][0])\n",
        "        v.append(vi)\n",
        "    \n",
        "    return np.asarray(v)"
      ],
      "execution_count": null,
      "outputs": []
    },
    {
      "cell_type": "code",
      "metadata": {
        "colab": {
          "base_uri": "https://localhost:8080/"
        },
        "id": "RzaTqLBF2t_7",
        "outputId": "9d0c2251-38d3-4ac6-b338-dbe179a2c156"
      },
      "source": [
        "# Testing skor akhir\n",
        "ranking = final_rank(distance)\n",
        "print(ranking)"
      ],
      "execution_count": null,
      "outputs": [
        {
          "output_type": "stream",
          "text": [
            "[0.56520582 0.43479418 0.55704616 0.83023159 0.75332037 0.63973087]\n"
          ],
          "name": "stdout"
        }
      ]
    }
  ]
}